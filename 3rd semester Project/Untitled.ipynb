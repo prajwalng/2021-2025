{
 "cells": [
  {
   "cell_type": "code",
   "execution_count": 8,
   "id": "ba3f5df3",
   "metadata": {},
   "outputs": [],
   "source": [
    "# with open('voice encryption.wav','wb') as encrypted_file:\n",
    "#     encrypted_file.write(encrypted)\n",
    "    \n",
    "# with open('voice decrypted.wav','wb') as dec_file:\n",
    "#     dec_file.write(decrypted)"
   ]
  },
  {
   "cell_type": "code",
   "execution_count": 7,
   "id": "c9ac8a01",
   "metadata": {},
   "outputs": [
    {
     "name": "stdout",
     "output_type": "stream",
     "text": [
      "b'q89BE91Y68kWZcphsy84GTcNVGOE5eBIinf6xCP4A0k='\n"
     ]
    }
   ],
   "source": [
    "#import the module\n",
    "\n",
    "from cryptography.fernet import Fernet\n",
    "\n",
    "#key generation\n",
    "\n",
    "key_enc = Fernet.generate_key()\n",
    "print(key_enc)"
   ]
  },
  {
   "cell_type": "code",
   "execution_count": 8,
   "id": "83ffbd1a",
   "metadata": {},
   "outputs": [
    {
     "name": "stdout",
     "output_type": "stream",
     "text": [
      "<cryptography.fernet.Fernet object at 0x0000020347D10850>\n"
     ]
    }
   ],
   "source": [
    "#encryption\n",
    "\n",
    "fernet=Fernet(key_enc)\n",
    "print(fernet)\n",
    "audiofile=\"C:/Users/Prajwal N G/Downloads/first.wav\"\n",
    "with open('keyfile.key','wb') as filekey:\n",
    "    filekey.write(key_enc)\n",
    "\n",
    "with open('keyfile.key','rb') as filekey:\n",
    "    key_dec=filekey.read()\n",
    "    \n",
    "with open(audiofile,'rb') as file:\n",
    "    originalaudio=file.read()\n",
    "    \n",
    "encrypted=fernet.encrypt(originalaudio)\n",
    "\n",
    "with open('voice encryption.wav','wb') as encrypted_file:\n",
    "    encrypted_file.write(encrypted)"
   ]
  },
  {
   "cell_type": "code",
   "execution_count": 9,
   "id": "37c8c1d3",
   "metadata": {},
   "outputs": [],
   "source": [
    "#Decryption\n",
    "\n",
    "fernet=Fernet(key_enc)\n",
    "\n",
    "with open('voice encryption.wav','rb') as enc_file:\n",
    "    encrypted=enc_file.read()\n",
    "    \n",
    "decrypted =fernet.decrypt(encrypted)\n",
    "\n",
    "with open('voice decryption.wav','wb') as dec_file:\n",
    "    dec_file.write(decrypted)"
   ]
  },
  {
   "cell_type": "code",
   "execution_count": null,
   "id": "8604846e",
   "metadata": {},
   "outputs": [],
   "source": []
  },
  {
   "cell_type": "code",
   "execution_count": null,
   "id": "0bb30216",
   "metadata": {},
   "outputs": [],
   "source": []
  },
  {
   "cell_type": "code",
   "execution_count": null,
   "id": "ce656797",
   "metadata": {},
   "outputs": [],
   "source": []
  }
 ],
 "metadata": {
  "kernelspec": {
   "display_name": "Python 3 (ipykernel)",
   "language": "python",
   "name": "python3"
  },
  "language_info": {
   "codemirror_mode": {
    "name": "ipython",
    "version": 3
   },
   "file_extension": ".py",
   "mimetype": "text/x-python",
   "name": "python",
   "nbconvert_exporter": "python",
   "pygments_lexer": "ipython3",
   "version": "3.9.13"
  }
 },
 "nbformat": 4,
 "nbformat_minor": 5
}
